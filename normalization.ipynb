{
 "cells": [
  {
   "cell_type": "code",
   "execution_count": 4,
   "metadata": {},
   "outputs": [],
   "source": [
    "import numpy as np"
   ]
  },
  {
   "cell_type": "code",
   "execution_count": 5,
   "metadata": {},
   "outputs": [],
   "source": [
    "def preprocess(file_name):\n",
    "    # normalization\n",
    "\n",
    "    full_data = np.loadtxt(fname=f'./CMAPSSData/train_{file_name}.txt', dtype=np.float32)\n",
    "    full_test = np.loadtxt(fname=f'./CMAPSSData/test_{file_name}.txt', dtype=np.float32)\n",
    "\n",
    "    # engineID and working time cycle, no need to norm\n",
    "    prefix_data = full_data[:, [0, 1]]\n",
    "    prefix_test = full_test[:, [0, 1]]\n",
    "    # operational settings and raw sensor data\n",
    "    inputs_data = full_data[:, 2:]\n",
    "    inputs_test = full_test[:, 2:]\n",
    "    # to avoid devide zero\n",
    "    eps = 1e-12\n",
    "\n",
    "    # For those who want to try standardiztion:\n",
    "    # mu = np.mean(inputs, axis=0)\n",
    "    # sigma = np.std(inputs, axis=0)\n",
    "    # standard = (inputs - mu) / (sigma + eps)\n",
    "\n",
    "    min = np.min(inputs_data, axis=0)\n",
    "    max = np.max(inputs_data, axis=0)\n",
    "\n",
    "    normed_data = (inputs_data - min) / (max - min + eps)\n",
    "    normed_test = (inputs_test - min) / (max - min + eps)\n",
    "\n",
    "    output_data = np.concatenate((prefix_data, normed_data), axis=1)\n",
    "    output_test = np.concatenate((prefix_test, normed_test), axis=1)\n",
    "    np.savetxt(f'./CMAPSSData/train_{file_name}_normed.txt', output_data, fmt='%f')\n",
    "    np.savetxt(f'./CMAPSSData/test_{file_name}_normed.txt', output_test, fmt='%f')"
   ]
  },
  {
   "cell_type": "code",
   "execution_count": 6,
   "metadata": {},
   "outputs": [],
   "source": [
    "file_name = 'FD003'\n",
    "preprocess(file_name)"
   ]
  }
 ],
 "metadata": {
  "kernelspec": {
   "display_name": "RUL",
   "language": "python",
   "name": "python3"
  },
  "language_info": {
   "codemirror_mode": {
    "name": "ipython",
    "version": 3
   },
   "file_extension": ".py",
   "mimetype": "text/x-python",
   "name": "python",
   "nbconvert_exporter": "python",
   "pygments_lexer": "ipython3",
   "version": "3.9.20"
  }
 },
 "nbformat": 4,
 "nbformat_minor": 2
}

{
 "cells": [
  {
   "cell_type": "code",
   "execution_count": 1,
   "metadata": {},
   "outputs": [],
   "source": [
    "import os\n",
    "import csv"
   ]
  },
  {
   "cell_type": "code",
   "execution_count": 2,
   "metadata": {},
   "outputs": [],
   "source": [
    "def extract_min_values_from_file(file_path):\n",
    "    with open(file_path, 'r') as f:\n",
    "        lines = f.readlines()\n",
    "        # Ensure file has at least two lines to read\n",
    "        if len(lines) < 2:\n",
    "            return None, None\n",
    "        \n",
    "        # Parse the two lines\n",
    "        try:\n",
    "            score_values = list(map(float, lines[0].split()))\n",
    "            rmse_values = list(map(float, lines[1].split()))\n",
    "            \n",
    "            # Get the minimum values\n",
    "            min_score = min(score_values)\n",
    "            min_rmse = min(rmse_values)\n",
    "            \n",
    "            return min_score, min_rmse\n",
    "        except ValueError:\n",
    "            # Handle cases where conversion to float fails\n",
    "            return None, None"
   ]
  },
  {
   "cell_type": "code",
   "execution_count": 3,
   "metadata": {},
   "outputs": [],
   "source": [
    "def process_folders_in_directory(directory):\n",
    "    # Initialize a dictionary to store results with folder names as keys\n",
    "    results = {}\n",
    "\n",
    "    # Initialize a list to store the file names (used as column headers)\n",
    "    folder_names = []\n",
    "\n",
    "    # Iterate through each folder in the specified directory\n",
    "    for folder in os.listdir(directory):\n",
    "        folder_path = os.path.join(directory, folder)\n",
    "        \n",
    "        if os.path.isdir(folder_path):\n",
    "            folder_names.append(folder)  # Add folder name\n",
    "            \n",
    "            # Initialize values for this folder\n",
    "            folder_scores = {\n",
    "                \"FD001 Score\": None, \"FD001 RMSE\": None,\n",
    "                \"FD002 Score\": None, \"FD002 RMSE\": None,\n",
    "                \"FD003 Score\": None, \"FD003 RMSE\": None,\n",
    "                \"FD004 Score\": None, \"FD004 RMSE\": None\n",
    "            }\n",
    "\n",
    "            # Find the relevant files within this folder\n",
    "            for file_name in os.listdir(folder_path):\n",
    "                file_path = os.path.join(folder_path, file_name)\n",
    "\n",
    "                # Check if the file starts with FD001, FD002, etc.\n",
    "                if file_name.startswith(\"FD001\") or file_name.startswith(\"FD002\") or \\\n",
    "                   file_name.startswith(\"FD003\") or file_name.startswith(\"FD004\"):\n",
    "                    \n",
    "                    # Extract the minimum Score and RMSE\n",
    "                    min_score, min_rmse = extract_min_values_from_file(file_path)\n",
    "\n",
    "                    # Store the values in folder_scores\n",
    "                    if min_score is not None and min_rmse is not None:\n",
    "                        key_score = f\"{file_name[:5]} Score\"\n",
    "                        key_rmse = f\"{file_name[:5]} RMSE\"\n",
    "                        \n",
    "                        folder_scores[key_score] = min_score\n",
    "                        folder_scores[key_rmse] = min_rmse\n",
    "            \n",
    "            # Store the folder_scores under the folder name in results\n",
    "            results[folder] = folder_scores\n",
    "\n",
    "    # Write the results to a CSV file\n",
    "    with open(\"output.csv\", \"w\", newline=\"\") as csvfile:\n",
    "        writer = csv.writer(csvfile)\n",
    "\n",
    "        # Create column headers, starting with Folder Name\n",
    "        column_headers = [\"Folder Name\"] + list(folder_scores.keys())\n",
    "\n",
    "        writer.writerow(column_headers)\n",
    "\n",
    "        # Write data rows\n",
    "        for folder in folder_names:\n",
    "            row = [folder] + list(results[folder].values())\n",
    "            writer.writerow(row)\n"
   ]
  },
  {
   "cell_type": "code",
   "execution_count": 4,
   "metadata": {},
   "outputs": [],
   "source": [
    "# Specify your directory path here\n",
    "directory_path = \"./result\"\n",
    "process_folders_in_directory(directory_path)"
   ]
  },
  {
   "cell_type": "code",
   "execution_count": null,
   "metadata": {},
   "outputs": [],
   "source": []
  }
 ],
 "metadata": {
  "kernelspec": {
   "display_name": "IT5006",
   "language": "python",
   "name": "python3"
  },
  "language_info": {
   "codemirror_mode": {
    "name": "ipython",
    "version": 3
   },
   "file_extension": ".py",
   "mimetype": "text/x-python",
   "name": "python",
   "nbconvert_exporter": "python",
   "pygments_lexer": "ipython3",
   "version": "3.9.20"
  }
 },
 "nbformat": 4,
 "nbformat_minor": 2
}

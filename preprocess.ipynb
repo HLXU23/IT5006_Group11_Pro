{
 "cells": [
  {
   "cell_type": "code",
   "execution_count": 57,
   "metadata": {},
   "outputs": [],
   "source": [
    "import numpy as np\n",
    "import pandas as pd\n",
    "from sklearn.preprocessing import MinMaxScaler"
   ]
  },
  {
   "cell_type": "code",
   "execution_count": 58,
   "metadata": {},
   "outputs": [],
   "source": [
    "file_name = 'FD001'"
   ]
  },
  {
   "cell_type": "code",
   "execution_count": 59,
   "metadata": {},
   "outputs": [],
   "source": [
    "train = np.loadtxt(fname=f'./CMAPSSData/train_{file_name}.txt', dtype=np.float32)\n",
    "test = np.loadtxt(fname=f'./CMAPSSData/test_{file_name}.txt', dtype=np.float32)"
   ]
  },
  {
   "cell_type": "code",
   "execution_count": 60,
   "metadata": {},
   "outputs": [],
   "source": [
    "train_df = pd.DataFrame(train)\n",
    "test_df = pd.DataFrame(test)"
   ]
  },
  {
   "cell_type": "code",
   "execution_count": 61,
   "metadata": {},
   "outputs": [],
   "source": [
    "column_names = ['unit_number', 'time_in_cycles', 'operational_setting_1', 'operational_setting_2', 'operational_setting_3'] + \\\n",
    "               [f'sensor_measurement_{i}' for i in range(1, 22)]\n",
    "\n",
    "train_df.columns = column_names\n",
    "test_df.columns = column_names"
   ]
  },
  {
   "cell_type": "code",
   "execution_count": 62,
   "metadata": {},
   "outputs": [],
   "source": [
    "sensors_to_drop = ['sensor_measurement_1', 'sensor_measurement_5', 'sensor_measurement_6',\n",
    "                'sensor_measurement_10', 'sensor_measurement_16', 'sensor_measurement_18', 'sensor_measurement_19']\n",
    "train_df = train_df.drop(columns=sensors_to_drop)\n",
    "test_df = test_df.drop(columns=sensors_to_drop)"
   ]
  },
  {
   "cell_type": "code",
   "execution_count": 63,
   "metadata": {},
   "outputs": [],
   "source": [
    "scaler = MinMaxScaler()\n",
    "train_df.iloc[:, 2:] = scaler.fit_transform(train_df.iloc[:, 2:])\n",
    "test_df.iloc[:, 2:] = scaler.transform(test_df.iloc[:, 2:])"
   ]
  },
  {
   "cell_type": "code",
   "execution_count": 64,
   "metadata": {},
   "outputs": [],
   "source": [
    "train_df.to_csv(f'./CMAPSSData/train_{file_name}_processed.csv', index=False)\n",
    "test_df.to_csv(f'./CMAPSSData/test_{file_name}_processed.csv', index=False)"
   ]
  },
  {
   "cell_type": "code",
   "execution_count": null,
   "metadata": {},
   "outputs": [],
   "source": []
  }
 ],
 "metadata": {
  "kernelspec": {
   "display_name": "RUL",
   "language": "python",
   "name": "python3"
  },
  "language_info": {
   "codemirror_mode": {
    "name": "ipython",
    "version": 3
   },
   "file_extension": ".py",
   "mimetype": "text/x-python",
   "name": "python",
   "nbconvert_exporter": "python",
   "pygments_lexer": "ipython3",
   "version": "3.9.20"
  }
 },
 "nbformat": 4,
 "nbformat_minor": 2
}
